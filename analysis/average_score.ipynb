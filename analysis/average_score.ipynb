{
 "cells": [
  {
   "cell_type": "code",
   "execution_count": 61,
   "metadata": {},
   "outputs": [],
   "source": [
    "import pandas as pd\n",
    "import numpy as np\n",
    "import os\n",
    "\n",
    "def score(filename):\n",
    "    df = pd.read_csv(filename)\n",
    "    # renames to access with df.result\n",
    "    df.rename(columns={'#result': 'result'}, inplace=True)\n",
    "    \n",
    "    # score =  number of victories + 0.5 number of draws\n",
    "    victories = df[df.result == 0].count()['result']\n",
    "    draws = df[df.result == -1].count()['result']\n",
    "    return  victories + 0.5 * draws\n",
    "    \n",
    "#score('../results/selfplay-basesWorkers8x8/rep0/test-vs-HeavyRush.csv')"
   ]
  },
  {
   "cell_type": "code",
   "execution_count": 67,
   "metadata": {},
   "outputs": [
    {
     "name": "stdout",
     "output_type": "stream",
     "text": [
      "[10.0, 10.0, 10.0, 5.0, 10.0, 10.0, 0.0, 0.0, 10.0, 10.0]\n"
     ]
    },
    {
     "data": {
      "text/plain": [
       "7.5"
      ]
     },
     "execution_count": 67,
     "metadata": {},
     "output_type": "execute_result"
    }
   ],
   "source": [
    "initial_rep = 0\n",
    "final_rep = 9\n",
    "mapname = 'basesWorkers8x8'\n",
    "opponent = 'LightRush'\n",
    "\n",
    "def average_score(basedir, initial_rep, final_rep, mapname, opponent):\n",
    "    files = [os.path.join(basedir, 'selfplay-%s' % mapname, 'rep%d' % rep, 'test-vs-%s.csv' % opponent ) for rep in range(initial_rep, final_rep + 1)]\n",
    "    #print([score(f) for f in files])\n",
    "    return np.mean([score(f) for f in files])\n",
    "\n",
    "average_score('../results/', 0, 9, 'basesWorkers8x8', 'LightRush')"
   ]
  }
 ],
 "metadata": {
  "kernelspec": {
   "display_name": "Python 3",
   "language": "python",
   "name": "python3"
  },
  "language_info": {
   "codemirror_mode": {
    "name": "ipython",
    "version": 3
   },
   "file_extension": ".py",
   "mimetype": "text/x-python",
   "name": "python",
   "nbconvert_exporter": "python",
   "pygments_lexer": "ipython3",
   "version": "3.6.7"
  }
 },
 "nbformat": 4,
 "nbformat_minor": 2
}
